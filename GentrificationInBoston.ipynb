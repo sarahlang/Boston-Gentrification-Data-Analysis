{
 "cells": [
  {
   "cell_type": "markdown",
   "metadata": {},
   "source": [
    "# Do Colleges Gentrify Boston?\n",
    "\n",
    "### Project Group 6: Nathan Kirschner, Sebastian Kobori, Sarah Lang, Caleb Lee"
   ]
  },
  {
   "cell_type": "markdown",
   "metadata": {},
   "source": [
    "Gentrification is a process where wealthy people move into an area, raising rent and housing prices and pushing out the original residents displace low-income families or, more often, prevent low-income families from moving into previously affordable neighborhoods\n",
    "\n",
    "### Why we chose this as our project:\n",
    "> * Boston is a “collegetown”, with 27 colleges & 50,000 students in the city of Boston\n",
    "> * Boston is a city with severe gentrification (Smith)\n",
    "> * Boston is ranked 3rd most in the nation\n",
    "> * 21.3% of the city is gentrified from 2013-2017\n",
    "\n",
    "### Hypothesis : \n",
    "> Students may move to a neighborhood to attend a college in an adjacent neighborhood, thus raising the living standard of that area. The more college students, the higher prices.\n",
    "\n",
    "### Our research question: \n",
    "> Do the presence of colleges in Boston increase the change in median gross rent in the surrounding area?"
   ]
  },
  {
   "cell_type": "markdown",
   "metadata": {},
   "source": [
    "### Goal: \n",
    "- Create a dataframe where each row represents a unique tract (CT-ID) and the columns describe that tract (percent change in median gross rent, total student population in tract, average net price of colleges in tract)\n",
    "- Use this dataframe to create graphs, where each point represents a unique tract\n",
    "- Total student population vs percent change in median gross rent\n",
    "- Average net price vs percent change in median gross rent\n",
    "\n",
    "\n",
    "### Plan: \n",
    "- Pull 5 year census data (2010-2014) as a dataframe where each row represents a unique tract and the columns descibe that tract in terms of CT-ID, Median Gross Rent and Total Population\n",
    "- Pull 5 year census data (2015-2019) as a dataframe where each row represents a unique tract and the columns descibe that tract in terms of CT-ID, Median Gross Rent and Total Population\n",
    "- Gather data on all the schools in Suffolk county through the NCES's CollegeNavigator tool, compile into excel\n",
    "- Read the excel file with college data where each row represents a college, and columns describe that college (CT-ID, Student Population, Net price) as a dataframe\n",
    "- Aggregate the college data, grouping by CT-ID, such that each row now represents a unique tract instead of a college and the columns describe that tract in terms of CT-ID, average net price and total student population of colleges in that tract\n",
    "- Merge all 3 dataframes by CT-ID, and create a new column for the percent difference in median gross rent between the 2010-2014 data and the 2015-2019 data. \n",
    "- Use matplotlib for the graphs"
   ]
  },
  {
   "cell_type": "markdown",
   "metadata": {},
   "source": [
    "Tools: pandas, geopandas, censusdata API, excel, mathplotlib"
   ]
  },
  {
   "cell_type": "code",
   "execution_count": 1,
   "metadata": {},
   "outputs": [
    {
     "name": "stdout",
     "output_type": "stream",
     "text": [
      "Requirement already satisfied: censusdata in /opt/anaconda3/lib/python3.8/site-packages (1.12)\n",
      "Requirement already satisfied: pandas in /opt/anaconda3/lib/python3.8/site-packages (from censusdata) (1.1.3)\n",
      "Requirement already satisfied: requests in /opt/anaconda3/lib/python3.8/site-packages (from censusdata) (2.24.0)\n",
      "Requirement already satisfied: numpy>=1.15.4 in /opt/anaconda3/lib/python3.8/site-packages (from pandas->censusdata) (1.19.2)\n",
      "Requirement already satisfied: pytz>=2017.2 in /opt/anaconda3/lib/python3.8/site-packages (from pandas->censusdata) (2020.1)\n",
      "Requirement already satisfied: python-dateutil>=2.7.3 in /opt/anaconda3/lib/python3.8/site-packages (from pandas->censusdata) (2.8.1)\n",
      "Requirement already satisfied: urllib3!=1.25.0,!=1.25.1,<1.26,>=1.21.1 in /opt/anaconda3/lib/python3.8/site-packages (from requests->censusdata) (1.25.11)\n",
      "Requirement already satisfied: certifi>=2017.4.17 in /opt/anaconda3/lib/python3.8/site-packages (from requests->censusdata) (2020.6.20)\n",
      "Requirement already satisfied: chardet<4,>=3.0.2 in /opt/anaconda3/lib/python3.8/site-packages (from requests->censusdata) (3.0.4)\n",
      "Requirement already satisfied: idna<3,>=2.5 in /opt/anaconda3/lib/python3.8/site-packages (from requests->censusdata) (2.10)\n",
      "Requirement already satisfied: six>=1.5 in /opt/anaconda3/lib/python3.8/site-packages (from python-dateutil>=2.7.3->pandas->censusdata) (1.15.0)\n"
     ]
    }
   ],
   "source": [
    "!pip install censusdata"
   ]
  },
  {
   "cell_type": "code",
   "execution_count": 2,
   "metadata": {},
   "outputs": [],
   "source": [
    "import pandas as pd\n",
    "import warnings\n",
    "warnings.filterwarnings(\"ignore\") #to surpress DataFrame copy warnings\n",
    "import censusdata"
   ]
  },
  {
   "cell_type": "markdown",
   "metadata": {},
   "source": [
    "We first had to figure out how to pull census data for Massachusetts. The state number for MA is 25."
   ]
  },
  {
   "cell_type": "code",
   "execution_count": 3,
   "metadata": {},
   "outputs": [
    {
     "name": "stdout",
     "output_type": "stream",
     "text": [
      "Summary level: 040, state:25\n",
      "Summary level: 040, state:25\n"
     ]
    }
   ],
   "source": [
    "states2014 = censusdata.geographies(censusdata.censusgeo([('state', '*')]), 'acs5', 2014)\n",
    "print(states2014['Massachusetts'])\n",
    "states2019 = censusdata.geographies(censusdata.censusgeo([('state', '*')]), 'acs5', 2019)\n",
    "print(states2019['Massachusetts'])"
   ]
  },
  {
   "cell_type": "markdown",
   "metadata": {},
   "source": [
    "We also had to figure out how to pull census data for Boston specifically. For the purposes of our experiment, we defined Boston to only include Suffolk County. The county number for Suffolk is 025."
   ]
  },
  {
   "cell_type": "code",
   "execution_count": 4,
   "metadata": {
    "scrolled": true
   },
   "outputs": [
    {
     "name": "stdout",
     "output_type": "stream",
     "text": [
      "{'Barnstable County, Massachusetts': censusgeo((('state', '25'), ('county', '001'))), 'Berkshire County, Massachusetts': censusgeo((('state', '25'), ('county', '003'))), 'Plymouth County, Massachusetts': censusgeo((('state', '25'), ('county', '023'))), 'Norfolk County, Massachusetts': censusgeo((('state', '25'), ('county', '021'))), 'Nantucket County, Massachusetts': censusgeo((('state', '25'), ('county', '019'))), 'Suffolk County, Massachusetts': censusgeo((('state', '25'), ('county', '025'))), 'Dukes County, Massachusetts': censusgeo((('state', '25'), ('county', '007'))), 'Middlesex County, Massachusetts': censusgeo((('state', '25'), ('county', '017'))), 'Bristol County, Massachusetts': censusgeo((('state', '25'), ('county', '005'))), 'Hampden County, Massachusetts': censusgeo((('state', '25'), ('county', '013'))), 'Essex County, Massachusetts': censusgeo((('state', '25'), ('county', '009'))), 'Franklin County, Massachusetts': censusgeo((('state', '25'), ('county', '011'))), 'Worcester County, Massachusetts': censusgeo((('state', '25'), ('county', '027'))), 'Hampshire County, Massachusetts': censusgeo((('state', '25'), ('county', '015')))}\n",
      "{'Barnstable County, Massachusetts': censusgeo((('state', '25'), ('county', '001'))), 'Berkshire County, Massachusetts': censusgeo((('state', '25'), ('county', '003'))), 'Plymouth County, Massachusetts': censusgeo((('state', '25'), ('county', '023'))), 'Norfolk County, Massachusetts': censusgeo((('state', '25'), ('county', '021'))), 'Nantucket County, Massachusetts': censusgeo((('state', '25'), ('county', '019'))), 'Suffolk County, Massachusetts': censusgeo((('state', '25'), ('county', '025'))), 'Dukes County, Massachusetts': censusgeo((('state', '25'), ('county', '007'))), 'Middlesex County, Massachusetts': censusgeo((('state', '25'), ('county', '017'))), 'Bristol County, Massachusetts': censusgeo((('state', '25'), ('county', '005'))), 'Hampden County, Massachusetts': censusgeo((('state', '25'), ('county', '013'))), 'Essex County, Massachusetts': censusgeo((('state', '25'), ('county', '009'))), 'Franklin County, Massachusetts': censusgeo((('state', '25'), ('county', '011'))), 'Worcester County, Massachusetts': censusgeo((('state', '25'), ('county', '027'))), 'Hampshire County, Massachusetts': censusgeo((('state', '25'), ('county', '015')))}\n"
     ]
    }
   ],
   "source": [
    "counties2014 = censusdata.geographies(censusdata.censusgeo([('state', '25'), ('county', '*')]), 'acs5', 2014)\n",
    "print(counties2014)\n",
    "counties2019 = censusdata.geographies(censusdata.censusgeo([('state', '25'), ('county', '*')]), 'acs5', 2019)\n",
    "print(counties2019)"
   ]
  },
  {
   "cell_type": "markdown",
   "metadata": {},
   "source": [
    "We then needed to figure out the codes for the variables that corresponded to total population and median gross rent. We used google for this."
   ]
  },
  {
   "cell_type": "code",
   "execution_count": 5,
   "metadata": {},
   "outputs": [
    {
     "name": "stdout",
     "output_type": "stream",
     "text": [
      "Variable     | Table                          | Label                                                    | Type \n",
      "-------------------------------------------------------------------------------------------------------------------\n",
      "B01003_001E  | B01003.  Total Population      | Total                                                    | int  \n",
      "-------------------------------------------------------------------------------------------------------------------\n",
      "Variable     | Table                          | Label                                                    | Type \n",
      "-------------------------------------------------------------------------------------------------------------------\n",
      "B25064_001E  | B25064.  Median Gross Rent (Do | Median gross rent                                        | int  \n",
      "-------------------------------------------------------------------------------------------------------------------\n"
     ]
    }
   ],
   "source": [
    "censusdata.printtable(censusdata.censustable('acs5', 2014, 'B01003')) #total population\n",
    "censusdata.printtable(censusdata.censustable('acs5', 2014, 'B25064')) #median gross rent"
   ]
  },
  {
   "cell_type": "markdown",
   "metadata": {},
   "source": [
    "To avoid issues with running cells out of order and creating mutation issues, we made a function that sets all dateframes to a known state. We used our findings above (about state, county, and variable codes) to pull the information we wanted from the Census API, from the 5 year estimate 2010-2014 and the 5 year estimate 2015-2019. However, when we pulled the data, it was not in the form we wanted; it was a dataframe where each row represented a block instead of a tract. Since blocks are subgroups of tracts, there were multiple rows that represented the same tract. In addition, there was no column for CT-ID, but rather a long string that contained pieces of a CT-ID. So we needed to create another method to convert the raw data into usable data, where each row represented a unique tract instead of block, with the columns still describing total population and median gross rent, but for the tract instead of the block. "
   ]
  },
  {
   "cell_type": "code",
   "execution_count": 6,
   "metadata": {},
   "outputs": [],
   "source": [
    "boston_data_2014  = ''\n",
    "boston_data_2019 = ''\n",
    "\n",
    "#sets all dataframes to a known state\n",
    "def initData():\n",
    "    global boston_data_2014\n",
    "    global boston_data_2019\n",
    "    \n",
    "    boston_data_2014 = censusdata.download('acs5', 2014,\n",
    "           censusdata.censusgeo([('state', '25'),\n",
    "                                 ('county', '025'),\n",
    "                                 ('block group', '*')]),\n",
    "          ['B01003_001E', 'B25064_001E'])\n",
    "\n",
    "\n",
    "    boston_data_2014 = convert_raw_census(boston_data_2014)\n",
    "    \n",
    "    boston_data_2019 = censusdata.download('acs5', 2019,\n",
    "           censusdata.censusgeo([('state', '25'),\n",
    "                                 ('county', '025'),\n",
    "                                 ('block group', '*')]),\n",
    "          ['B01003_001E', 'B25064_001E'])\n",
    "\n",
    "    boston_data_2019 = convert_raw_census(boston_data_2019)\n",
    "    \n",
    "\n"
   ]
  },
  {
   "cell_type": "markdown",
   "metadata": {},
   "source": [
    "Our first step of converting raw data was renaming the column names from the raw data, which were previously just numbers and letters. The next order of business was dealing with missing data. We made the decision that if a given row did not have a population (nan) we gave it a value of 0. We did the same for rows without median gross rent (when doing calculations with this data, we recognized zero as sentinel value). In addition, we encountered an error where certain rows contained median gross rent values that were negative. So we set those to 0 as well. Next, we created the CT-ID column by using string manipulation on the corresponding row in the raw tract column. Finally, we aggregated block data into tract data. Given that multiple blocks could correspond to the same CT-ID, we used group by on CT-ID, summing the populations and taking a weighted sum of the median gross rents for the blocks in the given CT-ID group. This gave us two dataframes: one with CT-ID and total population, the other with CT-ID and median gross rent. In both, each row represented a unique tract, not a block. We then merged these two by CT-ID, thus completing our conversion from raw census data to the form we wanted."
   ]
  },
  {
   "cell_type": "code",
   "execution_count": 7,
   "metadata": {},
   "outputs": [],
   "source": [
    "#for the given df, grouped by CT-ID, sums the population\n",
    "def total_pop(df):\n",
    "    return df['TotalPop'].sum()\n",
    "\n",
    "#for the given df, grouped by CT-ID, finds the weighted sum of median gross rent \n",
    "def weighted_gross_rent(df):\n",
    "    df.reset_index(inplace=True)\n",
    "    #the total population in the blocks in this CT-ID group\n",
    "    normal = total_pop(df)\n",
    "    sum = 0\n",
    "    for i in range(df.shape[0]):\n",
    "        #the population of one block\n",
    "        pop = df['TotalPop'][i]\n",
    "        #the proportion of this block \n",
    "        weight = pop / normal\n",
    "        #the median gross rent of this block\n",
    "        rent = df['Median_Gross_Rent'][i]\n",
    "        #weighted \n",
    "        sum += rent * weight\n",
    "    return sum\n",
    "\n",
    "\n",
    "#given a df of raw boston census data from a given year,\n",
    "#returns a new dataframe with updated column names and a new CT-ID column\n",
    "def convert_raw_census(df):\n",
    "    df.reset_index(inplace=True)\n",
    "    df.rename(columns={\"B01003_001E\": \"TotalPop\",\n",
    "                           \"B25064_001E\": \"Median_Gross_Rent\", \"index\": \"raw_tract\"}, inplace=True)\n",
    "    \n",
    "    #a design decisions\n",
    "    df[\"TotalPop\"] = df[\"TotalPop\"].fillna(0)\n",
    "    df[\"Median_Gross_Rent\"] = df[\"Median_Gross_Rent\"].fillna(0)\n",
    "    \n",
    "    \n",
    "    \n",
    "    #make a new column for CT_ID_10, initialized as a copy \n",
    "    df['CT-ID-10'] = df['raw_tract']\n",
    "    \n",
    "    for i in range(df.shape[0]):\n",
    "        \n",
    "        #dealing with negative rents\n",
    "        #by setting them to 0\n",
    "        if df['Median_Gross_Rent'][i] < 0:\n",
    "            df['Median_Gross_Rent'][i] = 0\n",
    "            \n",
    "        #the current CT-ID    \n",
    "        curr = df['CT-ID-10'][i]\n",
    "        curr = str(curr)\n",
    "        \n",
    "        #where the tract ID is located\n",
    "        start = curr.index('tract') + 6\n",
    "        end = start + 6\n",
    "        \n",
    "        #substring\n",
    "        tract_ID  = curr[start: end]\n",
    " \n",
    "        #all have the same state and county ID with prefix 25025\n",
    "        CT_ID = \"25025\" + str(tract_ID)\n",
    "        CT_ID = int(CT_ID)\n",
    "        \n",
    "        #replace the entries of CT_ID_10 with the actual value\n",
    "        df['CT-ID-10'][i] = CT_ID\n",
    "    \n",
    "    total_pop_table = df.groupby('CT-ID-10').apply(total_pop)\n",
    "    max_rent_table = df.groupby('CT-ID-10').apply(weighted_gross_rent)\n",
    "    total_pop_df = total_pop_table.rename_axis('CT-ID-10').reset_index(name='TotalPop')\n",
    "    max_rent_df = avg_rent_table = max_rent_table.rename_axis('CT-ID-10').reset_index(name='Median_Gross_Rent')\n",
    "    result = total_pop_df.merge(max_rent_df, how = 'left', on = 'CT-ID-10')\n",
    "    return result\n",
    "    "
   ]
  },
  {
   "cell_type": "markdown",
   "metadata": {},
   "source": [
    "We tested our raw data conversion on the 2010-2014 pull, and it was a success."
   ]
  },
  {
   "cell_type": "code",
   "execution_count": 8,
   "metadata": {},
   "outputs": [
    {
     "name": "stdout",
     "output_type": "stream",
     "text": [
      "Total population of Suffolk County 2014: 747928\n",
      "Total tracts: 204\n"
     ]
    },
    {
     "data": {
      "text/html": [
       "<div>\n",
       "<style scoped>\n",
       "    .dataframe tbody tr th:only-of-type {\n",
       "        vertical-align: middle;\n",
       "    }\n",
       "\n",
       "    .dataframe tbody tr th {\n",
       "        vertical-align: top;\n",
       "    }\n",
       "\n",
       "    .dataframe thead th {\n",
       "        text-align: right;\n",
       "    }\n",
       "</style>\n",
       "<table border=\"1\" class=\"dataframe\">\n",
       "  <thead>\n",
       "    <tr style=\"text-align: right;\">\n",
       "      <th></th>\n",
       "      <th>CT-ID-10</th>\n",
       "      <th>TotalPop</th>\n",
       "      <th>Median_Gross_Rent</th>\n",
       "    </tr>\n",
       "  </thead>\n",
       "  <tbody>\n",
       "    <tr>\n",
       "      <th>0</th>\n",
       "      <td>25025000100</td>\n",
       "      <td>3264</td>\n",
       "      <td>1514.267770</td>\n",
       "    </tr>\n",
       "    <tr>\n",
       "      <th>1</th>\n",
       "      <td>25025000201</td>\n",
       "      <td>3073</td>\n",
       "      <td>1691.745200</td>\n",
       "    </tr>\n",
       "    <tr>\n",
       "      <th>2</th>\n",
       "      <td>25025000202</td>\n",
       "      <td>3482</td>\n",
       "      <td>1426.505744</td>\n",
       "    </tr>\n",
       "    <tr>\n",
       "      <th>3</th>\n",
       "      <td>25025000301</td>\n",
       "      <td>2437</td>\n",
       "      <td>1682.533032</td>\n",
       "    </tr>\n",
       "    <tr>\n",
       "      <th>4</th>\n",
       "      <td>25025000302</td>\n",
       "      <td>2673</td>\n",
       "      <td>1741.272727</td>\n",
       "    </tr>\n",
       "  </tbody>\n",
       "</table>\n",
       "</div>"
      ],
      "text/plain": [
       "      CT-ID-10  TotalPop  Median_Gross_Rent\n",
       "0  25025000100      3264        1514.267770\n",
       "1  25025000201      3073        1691.745200\n",
       "2  25025000202      3482        1426.505744\n",
       "3  25025000301      2437        1682.533032\n",
       "4  25025000302      2673        1741.272727"
      ]
     },
     "execution_count": 8,
     "metadata": {},
     "output_type": "execute_result"
    }
   ],
   "source": [
    "initData()\n",
    "print(\"Total population of Suffolk County 2014: \" + str(boston_data_2014.TotalPop.sum()))\n",
    "print(\"Total tracts: \" + str(boston_data_2014.shape[0]))\n",
    "boston_data_2014.head()"
   ]
  },
  {
   "cell_type": "markdown",
   "metadata": {},
   "source": [
    "We then tested our raw data conversion on the 2014-2019 pull, and it was also a success."
   ]
  },
  {
   "cell_type": "code",
   "execution_count": 9,
   "metadata": {},
   "outputs": [
    {
     "name": "stdout",
     "output_type": "stream",
     "text": [
      "Total population of Suffolk County 2019: 796605\n",
      "Total tracts: 204\n"
     ]
    },
    {
     "data": {
      "text/html": [
       "<div>\n",
       "<style scoped>\n",
       "    .dataframe tbody tr th:only-of-type {\n",
       "        vertical-align: middle;\n",
       "    }\n",
       "\n",
       "    .dataframe tbody tr th {\n",
       "        vertical-align: top;\n",
       "    }\n",
       "\n",
       "    .dataframe thead th {\n",
       "        text-align: right;\n",
       "    }\n",
       "</style>\n",
       "<table border=\"1\" class=\"dataframe\">\n",
       "  <thead>\n",
       "    <tr style=\"text-align: right;\">\n",
       "      <th></th>\n",
       "      <th>CT-ID-10</th>\n",
       "      <th>TotalPop</th>\n",
       "      <th>Median_Gross_Rent</th>\n",
       "    </tr>\n",
       "  </thead>\n",
       "  <tbody>\n",
       "    <tr>\n",
       "      <th>0</th>\n",
       "      <td>25025000100</td>\n",
       "      <td>5884</td>\n",
       "      <td>1786.764616</td>\n",
       "    </tr>\n",
       "    <tr>\n",
       "      <th>1</th>\n",
       "      <td>25025000201</td>\n",
       "      <td>4125</td>\n",
       "      <td>2297.036364</td>\n",
       "    </tr>\n",
       "    <tr>\n",
       "      <th>2</th>\n",
       "      <td>25025000202</td>\n",
       "      <td>4461</td>\n",
       "      <td>1653.422551</td>\n",
       "    </tr>\n",
       "    <tr>\n",
       "      <th>3</th>\n",
       "      <td>25025000301</td>\n",
       "      <td>3074</td>\n",
       "      <td>2348.629473</td>\n",
       "    </tr>\n",
       "    <tr>\n",
       "      <th>4</th>\n",
       "      <td>25025000302</td>\n",
       "      <td>3447</td>\n",
       "      <td>2254.574993</td>\n",
       "    </tr>\n",
       "  </tbody>\n",
       "</table>\n",
       "</div>"
      ],
      "text/plain": [
       "      CT-ID-10  TotalPop  Median_Gross_Rent\n",
       "0  25025000100      5884        1786.764616\n",
       "1  25025000201      4125        2297.036364\n",
       "2  25025000202      4461        1653.422551\n",
       "3  25025000301      3074        2348.629473\n",
       "4  25025000302      3447        2254.574993"
      ]
     },
     "execution_count": 9,
     "metadata": {},
     "output_type": "execute_result"
    }
   ],
   "source": [
    "initData()\n",
    "print(\"Total population of Suffolk County 2019: \" + str(boston_data_2019.TotalPop.sum()))\n",
    "print(\"Total tracts: \" + str(boston_data_2019.shape[0]))\n",
    "boston_data_2019.head()"
   ]
  },
  {
   "cell_type": "markdown",
   "metadata": {},
   "source": [
    "The next thing we did was generate our college data, by reading the excel file we made as a dataframe. We made the decision to drop all rows that has Na for net price. (To clarify, net price is the cost of attending the school factoring in finanical aid/scholarships). We also used string manipulation to convert all values in the net price column to integers. "
   ]
  },
  {
   "cell_type": "code",
   "execution_count": 10,
   "metadata": {},
   "outputs": [
    {
     "data": {
      "text/html": [
       "<div>\n",
       "<style scoped>\n",
       "    .dataframe tbody tr th:only-of-type {\n",
       "        vertical-align: middle;\n",
       "    }\n",
       "\n",
       "    .dataframe tbody tr th {\n",
       "        vertical-align: top;\n",
       "    }\n",
       "\n",
       "    .dataframe thead th {\n",
       "        text-align: right;\n",
       "    }\n",
       "</style>\n",
       "<table border=\"1\" class=\"dataframe\">\n",
       "  <thead>\n",
       "    <tr style=\"text-align: right;\">\n",
       "      <th></th>\n",
       "      <th>index</th>\n",
       "      <th>Name</th>\n",
       "      <th>Address</th>\n",
       "      <th>Website</th>\n",
       "      <th>Type</th>\n",
       "      <th>Awards offered</th>\n",
       "      <th>Campus setting</th>\n",
       "      <th>Campus housing</th>\n",
       "      <th>Student population</th>\n",
       "      <th>Undergraduate students</th>\n",
       "      <th>Graduation Rate</th>\n",
       "      <th>Transfer-Out Rate</th>\n",
       "      <th>Cohort Year *</th>\n",
       "      <th>Net Price **</th>\n",
       "      <th>Largest Program</th>\n",
       "      <th>IPEDS ID</th>\n",
       "      <th>OPE ID</th>\n",
       "      <th>CT-ID-10</th>\n",
       "    </tr>\n",
       "  </thead>\n",
       "  <tbody>\n",
       "    <tr>\n",
       "      <th>0</th>\n",
       "      <td>0</td>\n",
       "      <td>North Bennet Street School</td>\n",
       "      <td>150 North Street, Boston, Massachusetts 02109</td>\n",
       "      <td>www.nbss.edu/</td>\n",
       "      <td>2-year, Private not-for-profit</td>\n",
       "      <td>One but less than two years certificate;Two bu...</td>\n",
       "      <td>City: Large</td>\n",
       "      <td>No</td>\n",
       "      <td>157</td>\n",
       "      <td>157.0</td>\n",
       "      <td>72%</td>\n",
       "      <td>NaN</td>\n",
       "      <td>Fall 2016</td>\n",
       "      <td>32019</td>\n",
       "      <td>Furniture Design and Manufacturing</td>\n",
       "      <td>167297</td>\n",
       "      <td>2197900</td>\n",
       "      <td>25025030400</td>\n",
       "    </tr>\n",
       "    <tr>\n",
       "      <th>1</th>\n",
       "      <td>1</td>\n",
       "      <td>Suffolk University</td>\n",
       "      <td>73 Tremont St., Boston, Massachusetts 02108-3901</td>\n",
       "      <td>https://www.suffolk.edu/</td>\n",
       "      <td>4-year, Private not-for-profit</td>\n",
       "      <td>One but less than two years certificate;Associ...</td>\n",
       "      <td>City: Large</td>\n",
       "      <td>Yes</td>\n",
       "      <td>7169</td>\n",
       "      <td>4862.0</td>\n",
       "      <td>58%</td>\n",
       "      <td>29%</td>\n",
       "      <td>Fall 2013</td>\n",
       "      <td>33105</td>\n",
       "      <td>-</td>\n",
       "      <td>168005</td>\n",
       "      <td>221800</td>\n",
       "      <td>25025070101</td>\n",
       "    </tr>\n",
       "    <tr>\n",
       "      <th>2</th>\n",
       "      <td>2</td>\n",
       "      <td>Empire Beauty School-Boston</td>\n",
       "      <td>30 West Street, Boston, Massachusetts 02111</td>\n",
       "      <td>www.empire.edu/</td>\n",
       "      <td>&lt; 2-year, Private for-profit</td>\n",
       "      <td>One but less than two years certificate</td>\n",
       "      <td>City: Large</td>\n",
       "      <td>No</td>\n",
       "      <td>139</td>\n",
       "      <td>139.0</td>\n",
       "      <td>58%</td>\n",
       "      <td>NaN</td>\n",
       "      <td>2016-17</td>\n",
       "      <td>17053</td>\n",
       "      <td>Cosmetology/Cosmetologist, General</td>\n",
       "      <td>164845</td>\n",
       "      <td>817807</td>\n",
       "      <td>25025010701</td>\n",
       "    </tr>\n",
       "    <tr>\n",
       "      <th>3</th>\n",
       "      <td>3</td>\n",
       "      <td>Boston Architectural College</td>\n",
       "      <td>320 Newbury Street, Boston, Massachusetts 0211...</td>\n",
       "      <td>www.the-bac.edu/</td>\n",
       "      <td>4-year, Private not-for-profit</td>\n",
       "      <td>Less than one year certificate;Bachelor's degr...</td>\n",
       "      <td>City: Large</td>\n",
       "      <td>Yes</td>\n",
       "      <td>737</td>\n",
       "      <td>364.0</td>\n",
       "      <td>13%</td>\n",
       "      <td>33%</td>\n",
       "      <td>Fall 2013</td>\n",
       "      <td>26640</td>\n",
       "      <td>-</td>\n",
       "      <td>164872</td>\n",
       "      <td>396600</td>\n",
       "      <td>25025010701</td>\n",
       "    </tr>\n",
       "    <tr>\n",
       "      <th>4</th>\n",
       "      <td>4</td>\n",
       "      <td>Emmanuel College</td>\n",
       "      <td>400 The Fenway, Boston, Massachusetts 02115</td>\n",
       "      <td>www.emmanuel.edu/</td>\n",
       "      <td>4-year, Private not-for-profit</td>\n",
       "      <td>Bachelor's degree;Postbaccalaureate certificat...</td>\n",
       "      <td>City: Large</td>\n",
       "      <td>Yes</td>\n",
       "      <td>2222</td>\n",
       "      <td>2112.0</td>\n",
       "      <td>66%</td>\n",
       "      <td>NaN</td>\n",
       "      <td>Fall 2013</td>\n",
       "      <td>29946</td>\n",
       "      <td>-</td>\n",
       "      <td>165671</td>\n",
       "      <td>214700</td>\n",
       "      <td>25025010300</td>\n",
       "    </tr>\n",
       "  </tbody>\n",
       "</table>\n",
       "</div>"
      ],
      "text/plain": [
       "   index                          Name  \\\n",
       "0      0    North Bennet Street School   \n",
       "1      1            Suffolk University   \n",
       "2      2   Empire Beauty School-Boston   \n",
       "3      3  Boston Architectural College   \n",
       "4      4              Emmanuel College   \n",
       "\n",
       "                                             Address  \\\n",
       "0      150 North Street, Boston, Massachusetts 02109   \n",
       "1   73 Tremont St., Boston, Massachusetts 02108-3901   \n",
       "2        30 West Street, Boston, Massachusetts 02111   \n",
       "3  320 Newbury Street, Boston, Massachusetts 0211...   \n",
       "4        400 The Fenway, Boston, Massachusetts 02115   \n",
       "\n",
       "                    Website                            Type  \\\n",
       "0             www.nbss.edu/  2-year, Private not-for-profit   \n",
       "1  https://www.suffolk.edu/  4-year, Private not-for-profit   \n",
       "2           www.empire.edu/    < 2-year, Private for-profit   \n",
       "3          www.the-bac.edu/  4-year, Private not-for-profit   \n",
       "4         www.emmanuel.edu/  4-year, Private not-for-profit   \n",
       "\n",
       "                                      Awards offered Campus setting  \\\n",
       "0  One but less than two years certificate;Two bu...    City: Large   \n",
       "1  One but less than two years certificate;Associ...    City: Large   \n",
       "2            One but less than two years certificate    City: Large   \n",
       "3  Less than one year certificate;Bachelor's degr...    City: Large   \n",
       "4  Bachelor's degree;Postbaccalaureate certificat...    City: Large   \n",
       "\n",
       "  Campus housing  Student population  Undergraduate students Graduation Rate  \\\n",
       "0             No                 157                   157.0             72%   \n",
       "1            Yes                7169                  4862.0             58%   \n",
       "2             No                 139                   139.0             58%   \n",
       "3            Yes                 737                   364.0             13%   \n",
       "4            Yes                2222                  2112.0             66%   \n",
       "\n",
       "  Transfer-Out Rate Cohort Year * Net Price **  \\\n",
       "0               NaN     Fall 2016        32019   \n",
       "1               29%     Fall 2013        33105   \n",
       "2               NaN       2016-17        17053   \n",
       "3               33%     Fall 2013        26640   \n",
       "4               NaN     Fall 2013        29946   \n",
       "\n",
       "                      Largest Program  IPEDS ID   OPE ID     CT-ID-10  \n",
       "0  Furniture Design and Manufacturing    167297  2197900  25025030400  \n",
       "1                                   -    168005   221800  25025070101  \n",
       "2  Cosmetology/Cosmetologist, General    164845   817807  25025010701  \n",
       "3                                   -    164872   396600  25025010701  \n",
       "4                                   -    165671   214700  25025010300  "
      ]
     },
     "execution_count": 10,
     "metadata": {},
     "output_type": "execute_result"
    }
   ],
   "source": [
    "college_data = pd.read_excel(\"collegesInBoston.xlsx\")\n",
    "\n",
    "#we cannot analyze a college if it has missing data \n",
    "college_data = college_data.dropna(subset = ['Net Price **'])\n",
    "\n",
    "college_data.reset_index(inplace=True)\n",
    "\n",
    "#converting the prices from string format to integer format\n",
    "for row in range(len(college_data)):\n",
    "    price_as_string = str(college_data['Net Price **'][row])\n",
    "    if \",\" in price_as_string:\n",
    "        comma_index = price_as_string.index(\",\")\n",
    "        clean = price_as_string[1: comma_index] + price_as_string[comma_index+1:]\n",
    "    else:\n",
    "        clean = price_as_string[1:]\n",
    "    college_data['Net Price **'][row] = int(clean)\n",
    "\n",
    "college_data.head()"
   ]
  },
  {
   "cell_type": "markdown",
   "metadata": {},
   "source": [
    "However, similar to the block issue from the raw census data, each row in our college dataframe did not represent a unique tract, but rather an individual college. Therefore, multiple rows could have the same CT-ID if multiple colleges were located there. To deal with this, we used a similar conversion process that we did on the raw census data. We grouped by CT-ID, taking the sum of the student populations and the average net price. This gave us two dataframes with rows representing unique tracts, one  with CT-ID and total student population, and the other with CT-ID and average net price. We then merged these two by CT-ID, thus completing our conversion."
   ]
  },
  {
   "cell_type": "code",
   "execution_count": 11,
   "metadata": {},
   "outputs": [],
   "source": [
    "#the average net price\n",
    "def avg_price(df):\n",
    "    count = df.shape[0]\n",
    "    return df[\"Net Price **\"].sum() / count\n",
    "\n",
    "#the sum of student populations for all colleges in the given CT-ID group\n",
    "def total_students(df):\n",
    "    return df['Student population'].sum()\n",
    "\n",
    "avg_tuition_prices_table = college_data.groupby('CT-ID-10').apply(avg_price)\n",
    "\n",
    "total_students_table = college_data.groupby('CT-ID-10').apply(total_students)\n",
    "\n",
    "avg_tuition_prices_per_tract = avg_tuition_prices_table.rename_axis('CT-ID-10').reset_index(name='avg_net_price')\n",
    "\n",
    "total_students_per_tract = total_students_table.rename_axis('CT-ID-10').reset_index(name='total_student_pop')"
   ]
  },
  {
   "cell_type": "code",
   "execution_count": 12,
   "metadata": {},
   "outputs": [
    {
     "data": {
      "text/html": [
       "<div>\n",
       "<style scoped>\n",
       "    .dataframe tbody tr th:only-of-type {\n",
       "        vertical-align: middle;\n",
       "    }\n",
       "\n",
       "    .dataframe tbody tr th {\n",
       "        vertical-align: top;\n",
       "    }\n",
       "\n",
       "    .dataframe thead th {\n",
       "        text-align: right;\n",
       "    }\n",
       "</style>\n",
       "<table border=\"1\" class=\"dataframe\">\n",
       "  <thead>\n",
       "    <tr style=\"text-align: right;\">\n",
       "      <th></th>\n",
       "      <th>CT-ID-10</th>\n",
       "      <th>avg_net_price</th>\n",
       "    </tr>\n",
       "  </thead>\n",
       "  <tbody>\n",
       "    <tr>\n",
       "      <th>0</th>\n",
       "      <td>25025010103</td>\n",
       "      <td>29479.00</td>\n",
       "    </tr>\n",
       "    <tr>\n",
       "      <th>1</th>\n",
       "      <td>25025010300</td>\n",
       "      <td>31271.75</td>\n",
       "    </tr>\n",
       "    <tr>\n",
       "      <th>2</th>\n",
       "      <td>25025010405</td>\n",
       "      <td>42281.00</td>\n",
       "    </tr>\n",
       "    <tr>\n",
       "      <th>3</th>\n",
       "      <td>25025010701</td>\n",
       "      <td>21846.50</td>\n",
       "    </tr>\n",
       "    <tr>\n",
       "      <th>4</th>\n",
       "      <td>25025010801</td>\n",
       "      <td>23981.00</td>\n",
       "    </tr>\n",
       "  </tbody>\n",
       "</table>\n",
       "</div>"
      ],
      "text/plain": [
       "      CT-ID-10  avg_net_price\n",
       "0  25025010103       29479.00\n",
       "1  25025010300       31271.75\n",
       "2  25025010405       42281.00\n",
       "3  25025010701       21846.50\n",
       "4  25025010801       23981.00"
      ]
     },
     "execution_count": 12,
     "metadata": {},
     "output_type": "execute_result"
    }
   ],
   "source": [
    "avg_tuition_prices_per_tract.head()"
   ]
  },
  {
   "cell_type": "code",
   "execution_count": 13,
   "metadata": {},
   "outputs": [
    {
     "data": {
      "text/html": [
       "<div>\n",
       "<style scoped>\n",
       "    .dataframe tbody tr th:only-of-type {\n",
       "        vertical-align: middle;\n",
       "    }\n",
       "\n",
       "    .dataframe tbody tr th {\n",
       "        vertical-align: top;\n",
       "    }\n",
       "\n",
       "    .dataframe thead th {\n",
       "        text-align: right;\n",
       "    }\n",
       "</style>\n",
       "<table border=\"1\" class=\"dataframe\">\n",
       "  <thead>\n",
       "    <tr style=\"text-align: right;\">\n",
       "      <th></th>\n",
       "      <th>CT-ID-10</th>\n",
       "      <th>total_student_pop</th>\n",
       "    </tr>\n",
       "  </thead>\n",
       "  <tbody>\n",
       "    <tr>\n",
       "      <th>0</th>\n",
       "      <td>25025010103</td>\n",
       "      <td>33720</td>\n",
       "    </tr>\n",
       "    <tr>\n",
       "      <th>1</th>\n",
       "      <td>25025010300</td>\n",
       "      <td>18218</td>\n",
       "    </tr>\n",
       "    <tr>\n",
       "      <th>2</th>\n",
       "      <td>25025010405</td>\n",
       "      <td>30049</td>\n",
       "    </tr>\n",
       "    <tr>\n",
       "      <th>3</th>\n",
       "      <td>25025010701</td>\n",
       "      <td>876</td>\n",
       "    </tr>\n",
       "    <tr>\n",
       "      <th>4</th>\n",
       "      <td>25025010801</td>\n",
       "      <td>1628</td>\n",
       "    </tr>\n",
       "  </tbody>\n",
       "</table>\n",
       "</div>"
      ],
      "text/plain": [
       "      CT-ID-10  total_student_pop\n",
       "0  25025010103              33720\n",
       "1  25025010300              18218\n",
       "2  25025010405              30049\n",
       "3  25025010701                876\n",
       "4  25025010801               1628"
      ]
     },
     "execution_count": 13,
     "metadata": {},
     "output_type": "execute_result"
    }
   ],
   "source": [
    "total_students_per_tract.head()"
   ]
  },
  {
   "cell_type": "markdown",
   "metadata": {},
   "source": [
    "We displayed our converted college dataframe, which was a success. "
   ]
  },
  {
   "cell_type": "code",
   "execution_count": 14,
   "metadata": {},
   "outputs": [
    {
     "data": {
      "text/html": [
       "<div>\n",
       "<style scoped>\n",
       "    .dataframe tbody tr th:only-of-type {\n",
       "        vertical-align: middle;\n",
       "    }\n",
       "\n",
       "    .dataframe tbody tr th {\n",
       "        vertical-align: top;\n",
       "    }\n",
       "\n",
       "    .dataframe thead th {\n",
       "        text-align: right;\n",
       "    }\n",
       "</style>\n",
       "<table border=\"1\" class=\"dataframe\">\n",
       "  <thead>\n",
       "    <tr style=\"text-align: right;\">\n",
       "      <th></th>\n",
       "      <th>CT-ID-10</th>\n",
       "      <th>avg_net_price</th>\n",
       "      <th>total_student_pop</th>\n",
       "    </tr>\n",
       "  </thead>\n",
       "  <tbody>\n",
       "    <tr>\n",
       "      <th>0</th>\n",
       "      <td>25025010103</td>\n",
       "      <td>29479.00</td>\n",
       "      <td>33720</td>\n",
       "    </tr>\n",
       "    <tr>\n",
       "      <th>1</th>\n",
       "      <td>25025010300</td>\n",
       "      <td>31271.75</td>\n",
       "      <td>18218</td>\n",
       "    </tr>\n",
       "    <tr>\n",
       "      <th>2</th>\n",
       "      <td>25025010405</td>\n",
       "      <td>42281.00</td>\n",
       "      <td>30049</td>\n",
       "    </tr>\n",
       "    <tr>\n",
       "      <th>3</th>\n",
       "      <td>25025010701</td>\n",
       "      <td>21846.50</td>\n",
       "      <td>876</td>\n",
       "    </tr>\n",
       "    <tr>\n",
       "      <th>4</th>\n",
       "      <td>25025010801</td>\n",
       "      <td>23981.00</td>\n",
       "      <td>1628</td>\n",
       "    </tr>\n",
       "  </tbody>\n",
       "</table>\n",
       "</div>"
      ],
      "text/plain": [
       "      CT-ID-10  avg_net_price  total_student_pop\n",
       "0  25025010103       29479.00              33720\n",
       "1  25025010300       31271.75              18218\n",
       "2  25025010405       42281.00              30049\n",
       "3  25025010701       21846.50                876\n",
       "4  25025010801       23981.00               1628"
      ]
     },
     "execution_count": 14,
     "metadata": {},
     "output_type": "execute_result"
    }
   ],
   "source": [
    "relevant_college_data = avg_tuition_prices_per_tract.merge(total_students_per_tract, how = 'left', on = 'CT-ID-10')\n",
    "\n",
    "relevant_college_data.head()"
   ]
  },
  {
   "cell_type": "markdown",
   "metadata": {},
   "source": [
    "At this point, we needed to merge the converted census dataframes with the converted college dataframe by CT-ID. However, we could not do this just yet, because the census dataframes had far more rows (more unique CT-ID's) than the college dataframe. To handle this, we filtered out all rows from the census dataframes that contained CT-ID's not represented in the college dataframe."
   ]
  },
  {
   "cell_type": "code",
   "execution_count": 15,
   "metadata": {},
   "outputs": [
    {
     "name": "stdout",
     "output_type": "stream",
     "text": [
      "The Boston census data now contains only 14 relevant tracts\n"
     ]
    }
   ],
   "source": [
    "initData()\n",
    "#all CT-ID's listed in college data\n",
    "college_tracts = relevant_college_data['CT-ID-10'].tolist()\n",
    "\n",
    "\n",
    "#returns a filtered version of the given census data\n",
    "#that contains only CT-ID's listed in college data \n",
    "def filterCensus(df):\n",
    "    for n in range(len(df)):\n",
    "        test = df['CT-ID-10'][n]\n",
    "        if not test in college_tracts:\n",
    "            df = df.drop([n])\n",
    "    return df\n",
    "\n",
    "boston_data_2014 = filterCensus(boston_data_2014)\n",
    "\n",
    "boston_data_2019 = filterCensus(boston_data_2019)\n",
    "\n",
    "print(\"The Boston census data now contains only \" + str(boston_data_2014.shape[0]) + \" relevant tracts\")"
   ]
  },
  {
   "cell_type": "markdown",
   "metadata": {},
   "source": [
    "Now that the CT-ID's matched, we were able to merge the 2010-2014 census dataframe and the 2014-2019 census dataframe with the college dataframe."
   ]
  },
  {
   "cell_type": "code",
   "execution_count": 16,
   "metadata": {},
   "outputs": [],
   "source": [
    "#merges the given processed census data with the relevant college data\n",
    "#over the CT-ID column\n",
    "initData()\n",
    "\n",
    "def finalize(df):\n",
    "    result = relevant_college_data.merge(df, how = 'left', on = 'CT-ID-10')\n",
    "    return result\n",
    "\n",
    "full_df_2014 = finalize(boston_data_2014)\n",
    "\n",
    "full_df_2019 = finalize(boston_data_2019)\n"
   ]
  },
  {
   "cell_type": "code",
   "execution_count": 17,
   "metadata": {},
   "outputs": [
    {
     "data": {
      "text/html": [
       "<div>\n",
       "<style scoped>\n",
       "    .dataframe tbody tr th:only-of-type {\n",
       "        vertical-align: middle;\n",
       "    }\n",
       "\n",
       "    .dataframe tbody tr th {\n",
       "        vertical-align: top;\n",
       "    }\n",
       "\n",
       "    .dataframe thead th {\n",
       "        text-align: right;\n",
       "    }\n",
       "</style>\n",
       "<table border=\"1\" class=\"dataframe\">\n",
       "  <thead>\n",
       "    <tr style=\"text-align: right;\">\n",
       "      <th></th>\n",
       "      <th>CT-ID-10</th>\n",
       "      <th>avg_net_price</th>\n",
       "      <th>total_student_pop</th>\n",
       "      <th>TotalPop</th>\n",
       "      <th>Median_Gross_Rent_2014</th>\n",
       "    </tr>\n",
       "  </thead>\n",
       "  <tbody>\n",
       "    <tr>\n",
       "      <th>0</th>\n",
       "      <td>25025010103</td>\n",
       "      <td>29479.00</td>\n",
       "      <td>33720</td>\n",
       "      <td>3704</td>\n",
       "      <td>1060.298596</td>\n",
       "    </tr>\n",
       "    <tr>\n",
       "      <th>1</th>\n",
       "      <td>25025010300</td>\n",
       "      <td>31271.75</td>\n",
       "      <td>18218</td>\n",
       "      <td>5202</td>\n",
       "      <td>1404.483660</td>\n",
       "    </tr>\n",
       "    <tr>\n",
       "      <th>2</th>\n",
       "      <td>25025010405</td>\n",
       "      <td>42281.00</td>\n",
       "      <td>30049</td>\n",
       "      <td>5814</td>\n",
       "      <td>549.406261</td>\n",
       "    </tr>\n",
       "    <tr>\n",
       "      <th>3</th>\n",
       "      <td>25025010701</td>\n",
       "      <td>21846.50</td>\n",
       "      <td>876</td>\n",
       "      <td>2954</td>\n",
       "      <td>1881.977319</td>\n",
       "    </tr>\n",
       "    <tr>\n",
       "      <th>4</th>\n",
       "      <td>25025010801</td>\n",
       "      <td>23981.00</td>\n",
       "      <td>1628</td>\n",
       "      <td>3259</td>\n",
       "      <td>1725.560295</td>\n",
       "    </tr>\n",
       "  </tbody>\n",
       "</table>\n",
       "</div>"
      ],
      "text/plain": [
       "      CT-ID-10  avg_net_price  total_student_pop  TotalPop  \\\n",
       "0  25025010103       29479.00              33720      3704   \n",
       "1  25025010300       31271.75              18218      5202   \n",
       "2  25025010405       42281.00              30049      5814   \n",
       "3  25025010701       21846.50                876      2954   \n",
       "4  25025010801       23981.00               1628      3259   \n",
       "\n",
       "   Median_Gross_Rent_2014  \n",
       "0             1060.298596  \n",
       "1             1404.483660  \n",
       "2              549.406261  \n",
       "3             1881.977319  \n",
       "4             1725.560295  "
      ]
     },
     "execution_count": 17,
     "metadata": {},
     "output_type": "execute_result"
    }
   ],
   "source": [
    "full_df_2014.rename(columns={\"Median_Gross_Rent\": \"Median_Gross_Rent_2014\"}, inplace=True)\n",
    "full_df_2014.head()\n"
   ]
  },
  {
   "cell_type": "code",
   "execution_count": 18,
   "metadata": {},
   "outputs": [
    {
     "data": {
      "text/html": [
       "<div>\n",
       "<style scoped>\n",
       "    .dataframe tbody tr th:only-of-type {\n",
       "        vertical-align: middle;\n",
       "    }\n",
       "\n",
       "    .dataframe tbody tr th {\n",
       "        vertical-align: top;\n",
       "    }\n",
       "\n",
       "    .dataframe thead th {\n",
       "        text-align: right;\n",
       "    }\n",
       "</style>\n",
       "<table border=\"1\" class=\"dataframe\">\n",
       "  <thead>\n",
       "    <tr style=\"text-align: right;\">\n",
       "      <th></th>\n",
       "      <th>CT-ID-10</th>\n",
       "      <th>avg_net_price</th>\n",
       "      <th>total_student_pop</th>\n",
       "      <th>TotalPop</th>\n",
       "      <th>Median_Gross_Rent_2019</th>\n",
       "    </tr>\n",
       "  </thead>\n",
       "  <tbody>\n",
       "    <tr>\n",
       "      <th>0</th>\n",
       "      <td>25025010103</td>\n",
       "      <td>29479.00</td>\n",
       "      <td>33720</td>\n",
       "      <td>3686</td>\n",
       "      <td>1717.544493</td>\n",
       "    </tr>\n",
       "    <tr>\n",
       "      <th>1</th>\n",
       "      <td>25025010300</td>\n",
       "      <td>31271.75</td>\n",
       "      <td>18218</td>\n",
       "      <td>5351</td>\n",
       "      <td>1404.026163</td>\n",
       "    </tr>\n",
       "    <tr>\n",
       "      <th>2</th>\n",
       "      <td>25025010405</td>\n",
       "      <td>42281.00</td>\n",
       "      <td>30049</td>\n",
       "      <td>6008</td>\n",
       "      <td>722.916112</td>\n",
       "    </tr>\n",
       "    <tr>\n",
       "      <th>3</th>\n",
       "      <td>25025010701</td>\n",
       "      <td>21846.50</td>\n",
       "      <td>876</td>\n",
       "      <td>2383</td>\n",
       "      <td>2059.597566</td>\n",
       "    </tr>\n",
       "    <tr>\n",
       "      <th>4</th>\n",
       "      <td>25025010801</td>\n",
       "      <td>23981.00</td>\n",
       "      <td>1628</td>\n",
       "      <td>3002</td>\n",
       "      <td>2176.054297</td>\n",
       "    </tr>\n",
       "  </tbody>\n",
       "</table>\n",
       "</div>"
      ],
      "text/plain": [
       "      CT-ID-10  avg_net_price  total_student_pop  TotalPop  \\\n",
       "0  25025010103       29479.00              33720      3686   \n",
       "1  25025010300       31271.75              18218      5351   \n",
       "2  25025010405       42281.00              30049      6008   \n",
       "3  25025010701       21846.50                876      2383   \n",
       "4  25025010801       23981.00               1628      3002   \n",
       "\n",
       "   Median_Gross_Rent_2019  \n",
       "0             1717.544493  \n",
       "1             1404.026163  \n",
       "2              722.916112  \n",
       "3             2059.597566  \n",
       "4             2176.054297  "
      ]
     },
     "execution_count": 18,
     "metadata": {},
     "output_type": "execute_result"
    }
   ],
   "source": [
    "full_df_2019.rename(columns={\"Median_Gross_Rent\": \"Median_Gross_Rent_2019\"}, inplace=True)\n",
    "full_df_2019.head()"
   ]
  },
  {
   "cell_type": "markdown",
   "metadata": {},
   "source": [
    "Our last step was to create the column for percent change in rent. To do this, we took a slice of the 2014-2019 census dataframe where we only kept the columns CT-ID and Median Gross Rent. We then merged this slice with the pre-existing merge between the 2010-2014 census dataframe and the college dataframe. To calculate percent change in rent, we used the formula (final - initial) / initial, with initial being the median gross rent for 2010-2014 and final being the median gross rent for 2014-2019. "
   ]
  },
  {
   "cell_type": "code",
   "execution_count": 19,
   "metadata": {},
   "outputs": [
    {
     "data": {
      "text/html": [
       "<div>\n",
       "<style scoped>\n",
       "    .dataframe tbody tr th:only-of-type {\n",
       "        vertical-align: middle;\n",
       "    }\n",
       "\n",
       "    .dataframe tbody tr th {\n",
       "        vertical-align: top;\n",
       "    }\n",
       "\n",
       "    .dataframe thead th {\n",
       "        text-align: right;\n",
       "    }\n",
       "</style>\n",
       "<table border=\"1\" class=\"dataframe\">\n",
       "  <thead>\n",
       "    <tr style=\"text-align: right;\">\n",
       "      <th></th>\n",
       "      <th>CT-ID-10</th>\n",
       "      <th>avg_net_price</th>\n",
       "      <th>total_student_pop</th>\n",
       "      <th>TotalPop</th>\n",
       "      <th>Median_Gross_Rent_2014</th>\n",
       "      <th>Median_Gross_Rent_2019</th>\n",
       "      <th>percent_change_in_rent</th>\n",
       "    </tr>\n",
       "  </thead>\n",
       "  <tbody>\n",
       "    <tr>\n",
       "      <th>0</th>\n",
       "      <td>25025010103</td>\n",
       "      <td>29479.00</td>\n",
       "      <td>33720</td>\n",
       "      <td>3704</td>\n",
       "      <td>1060.298596</td>\n",
       "      <td>1717.544493</td>\n",
       "      <td>61.986869</td>\n",
       "    </tr>\n",
       "    <tr>\n",
       "      <th>1</th>\n",
       "      <td>25025010300</td>\n",
       "      <td>31271.75</td>\n",
       "      <td>18218</td>\n",
       "      <td>5202</td>\n",
       "      <td>1404.483660</td>\n",
       "      <td>1404.026163</td>\n",
       "      <td>-0.032574</td>\n",
       "    </tr>\n",
       "    <tr>\n",
       "      <th>2</th>\n",
       "      <td>25025010405</td>\n",
       "      <td>42281.00</td>\n",
       "      <td>30049</td>\n",
       "      <td>5814</td>\n",
       "      <td>549.406261</td>\n",
       "      <td>722.916112</td>\n",
       "      <td>31.581339</td>\n",
       "    </tr>\n",
       "    <tr>\n",
       "      <th>3</th>\n",
       "      <td>25025010701</td>\n",
       "      <td>21846.50</td>\n",
       "      <td>876</td>\n",
       "      <td>2954</td>\n",
       "      <td>1881.977319</td>\n",
       "      <td>2059.597566</td>\n",
       "      <td>9.437959</td>\n",
       "    </tr>\n",
       "    <tr>\n",
       "      <th>4</th>\n",
       "      <td>25025010801</td>\n",
       "      <td>23981.00</td>\n",
       "      <td>1628</td>\n",
       "      <td>3259</td>\n",
       "      <td>1725.560295</td>\n",
       "      <td>2176.054297</td>\n",
       "      <td>26.107115</td>\n",
       "    </tr>\n",
       "  </tbody>\n",
       "</table>\n",
       "</div>"
      ],
      "text/plain": [
       "      CT-ID-10  avg_net_price  total_student_pop  TotalPop  \\\n",
       "0  25025010103       29479.00              33720      3704   \n",
       "1  25025010300       31271.75              18218      5202   \n",
       "2  25025010405       42281.00              30049      5814   \n",
       "3  25025010701       21846.50                876      2954   \n",
       "4  25025010801       23981.00               1628      3259   \n",
       "\n",
       "   Median_Gross_Rent_2014  Median_Gross_Rent_2019  percent_change_in_rent  \n",
       "0             1060.298596             1717.544493               61.986869  \n",
       "1             1404.483660             1404.026163               -0.032574  \n",
       "2              549.406261              722.916112               31.581339  \n",
       "3             1881.977319             2059.597566                9.437959  \n",
       "4             1725.560295             2176.054297               26.107115  "
      ]
     },
     "execution_count": 19,
     "metadata": {},
     "output_type": "execute_result"
    }
   ],
   "source": [
    "df_2019_rent = pd.DataFrame(full_df_2019, columns = ['CT-ID-10', 'Median_Gross_Rent_2019']) \n",
    "df_2014_19 = full_df_2014.merge(df_2019_rent, how = 'left', on = 'CT-ID-10')\n",
    "df_2014_19['percent_change_in_rent'] = (df_2014_19['Median_Gross_Rent_2019'] - df_2014_19['Median_Gross_Rent_2014']) * 100 / df_2014_19['Median_Gross_Rent_2014']\n",
    "df_2014_19.head()\n"
   ]
  },
  {
   "cell_type": "markdown",
   "metadata": {},
   "source": [
    "### Colleges & students \n",
    "We realized that just because a student was attending a college, it did not mean that they lived in that same tract. So we ran into the problem where we did not have enough info on student addresses. \n",
    "\n",
    "Our solution was to switch from a student centric approach, where we would measure student population vs median gross rent, to a college centric one, where we look at whether the presence of a college affects the rent.\n",
    "\n",
    "We found all the zip codes in Suffolk County:\n",
    "http://www.ciclt.net/sn/clt/capitolimpact/gw_ziplist.aspx?CityKey=2507000&stfips=25&state=ma&stname=Massachusett\n",
    "\n",
    "Instead of looking up “colleges in Boston” on google, we looked for an accurate list of colleges that are 0 miles from the zip codes of Boston: https://nces.ed.gov/collegenavigator\n",
    "\n",
    "We then found which tract each college was in from the following website: https://geomap.ffiec.gov/FFIECGeocMap/GeocodeMap1.aspx\n",
    "\n",
    "\n",
    "Final Excel with list of colleges: https://drive.google.com/file/d/1qt7SUeVnMNHo1JCFY9G9d0Rz8Jzd5QPf/view?usp=sharing"
   ]
  },
  {
   "cell_type": "code",
   "execution_count": 20,
   "metadata": {},
   "outputs": [],
   "source": [
    "initData()\n",
    "\n",
    "import geopandas as gpd\n",
    "import pandas as pd\n",
    "import matplotlib.pyplot as plt\n",
    "from mpl_toolkits.axes_grid1 import make_axes_locatable\n",
    "pd.set_option('display.max_columns', None)\n",
    "import math\n",
    "\n",
    "map = gpd.read_file('36911d02-d91e-45ef-8b18-c26fa6a747a32020329-1-1pmfndx.pqs7i.dbf')"
   ]
  },
  {
   "cell_type": "markdown",
   "metadata": {},
   "source": [
    "The shape file we used (https://data.boston.gov/dataset/census-2010-tracts1) included a huge tract filled with water with no people, we needed to manually filter it out in the census’ med gross rent data.\n",
    "\n",
    "This next map shows a map with the water tract included, and you can see how it skews the data."
   ]
  },
  {
   "cell_type": "markdown",
   "metadata": {},
   "source": [
    "For each tract in Boston, if there was a college present, we added one to the 'numColleges' column of our map dataframe. Then we displayed a map with those values, with tracts that have no colleges being black, and tracts with colleges being lighter colors."
   ]
  },
  {
   "cell_type": "code",
   "execution_count": 21,
   "metadata": {},
   "outputs": [
    {
     "data": {
      "text/plain": [
       "<AxesSubplot:>"
      ]
     },
     "execution_count": 21,
     "metadata": {},
     "output_type": "execute_result"
    },
    {
     "data": {
      "image/png": "[encoded data removed]",
      "text/plain": [
       "<Figure size 432x288 with 2 Axes>"
      ]
     },
     "metadata": {
      "needs_background": "light"
     },
     "output_type": "display_data"
    }
   ],
   "source": [
    "college_data = pd.read_excel(\"collegesInBoston.xlsx\")\n",
    "\n",
    "map[\"numColleges\"] = 0\n",
    "for tract in range(len(map)):\n",
    "    for college in range(len(college_data)):\n",
    "        if (str(map[\"GEOID10\"][tract]) == str(college_data[\"CT-ID-10\"][college])):\n",
    "            map[\"numColleges\"][tract] += 1\n",
    "\n",
    "\n",
    "fig, ax = plt.subplots(1, 1)\n",
    "divider = make_axes_locatable(ax)\n",
    "cax = divider.append_axes(\"right\", size=\"5%\", pad=0.5)\n",
    "\n",
    "\n",
    "map.plot(figsize=(5, 5), column='numColleges', cmap=\"hot\", legend_kwds={'label': \"Number of Colleges\"}, ax=ax, cax=cax, legend=True)"
   ]
  },
  {
   "cell_type": "markdown",
   "metadata": {},
   "source": [
    "This is our correct map of tracts with colleges"
   ]
  },
  {
   "cell_type": "code",
   "execution_count": 22,
   "metadata": {},
   "outputs": [
    {
     "data": {
      "text/plain": [
       "<AxesSubplot:>"
      ]
     },
     "execution_count": 22,
     "metadata": {},
     "output_type": "execute_result"
    },
    {
     "data": {
      "image/png": "[encoded data removed]",
      "text/plain": [
       "<Figure size 432x288 with 2 Axes>"
      ]
     },
     "metadata": {
      "needs_background": "light"
     },
     "output_type": "display_data"
    }
   ],
   "source": [
    "#not including this tract because it's all water\n",
    "map = map[map[\"FID\"] != 48]\n",
    "\n",
    "fig, ax = plt.subplots(1, 1)\n",
    "divider = make_axes_locatable(ax)\n",
    "cax = divider.append_axes(\"right\", size=\"5%\", pad=0.5)\n",
    "\n",
    "map.plot(figsize=(5, 5), column='numColleges', cmap=\"hot\", legend_kwds={'label': \"Number of Colleges\"}, ax=ax, cax=cax, legend=True)"
   ]
  },
  {
   "cell_type": "markdown",
   "metadata": {},
   "source": [
    "We added a column for the 2014 median gross rent and 2019 median gross rent."
   ]
  },
  {
   "cell_type": "code",
   "execution_count": 23,
   "metadata": {},
   "outputs": [],
   "source": [
    "map = map.reset_index(drop=True)\n",
    "\n",
    "map[\"Median_Gross_Rent_14\"] = 0\n",
    "map[\"Median_Gross_Rent_19\"] = 0\n",
    "for tract_map in range(len(map)):\n",
    "    for tract_cen in range(len(boston_data_2014)):\n",
    "        if (str(map[\"GEOID10\"][tract_map]) == str(boston_data_2014[\"CT-ID-10\"][tract_cen])):\n",
    "            map[\"Median_Gross_Rent_14\"][tract_map] = boston_data_2014[\"Median_Gross_Rent\"][tract_cen]\n",
    "    for tract_cen in range(len(boston_data_2019)):\n",
    "        if (str(map[\"GEOID10\"][tract_map]) == str(boston_data_2019[\"CT-ID-10\"][tract_cen])):\n",
    "            map[\"Median_Gross_Rent_19\"][tract_map] = boston_data_2019[\"Median_Gross_Rent\"][tract_cen]"
   ]
  },
  {
   "cell_type": "markdown",
   "metadata": {},
   "source": [
    "For some of the tracts, the median gross rent was either missing (NaN) or a negative number, which we belive indicates a missing value in the data set. If that was the case for the 2014 and 2019 data for a particular tract, we assigned that tracts median gross rent to 1 for both years. \n",
    "\n",
    "If only one of them was missing/negative, we assigned the year with the missing value to have the same median gross rent as the year that was accurate. This way the change in median gross rent would be zero, so it doesn't interfere with the rest of the data."
   ]
  },
  {
   "cell_type": "code",
   "execution_count": 24,
   "metadata": {},
   "outputs": [],
   "source": [
    "for tract in range(len(map)):\n",
    "    if ((map[\"Median_Gross_Rent_14\"][tract] < 0) or (math.isnan(map[\"Median_Gross_Rent_14\"][tract])) and ((map[\"Median_Gross_Rent_19\"][tract] < 0) or (math.isnan(map[\"Median_Gross_Rent_19\"][tract])))):\n",
    "        map[\"Median_Gross_Rent_19\"][tract] = 1\n",
    "        map[\"Median_Gross_Rent_14\"][tract] = 1\n",
    "    elif ((map[\"Median_Gross_Rent_19\"][tract] < 0) or (math.isnan(map[\"Median_Gross_Rent_19\"][tract]))):\n",
    "        map[\"Median_Gross_Rent_19\"][tract] = map[\"Median_Gross_Rent_14\"][tract]\n",
    "    elif ((map[\"Median_Gross_Rent_14\"][tract] < 0) or (math.isnan(map[\"Median_Gross_Rent_14\"][tract]))):\n",
    "        map[\"Median_Gross_Rent_14\"][tract] = map[\"Median_Gross_Rent_19\"][tract]"
   ]
  },
  {
   "cell_type": "markdown",
   "metadata": {},
   "source": [
    "This is the equation we used to calculate the percent change in median gross rent from 2014 to 2019."
   ]
  },
  {
   "cell_type": "code",
   "execution_count": 25,
   "metadata": {},
   "outputs": [],
   "source": [
    "map[\"Diff_In_Rent\"] = ((map[\"Median_Gross_Rent_19\"] - map[\"Median_Gross_Rent_14\"]) * 100 / map[\"Median_Gross_Rent_14\"])"
   ]
  },
  {
   "cell_type": "code",
   "execution_count": 26,
   "metadata": {},
   "outputs": [
    {
     "data": {
      "text/html": [
       "<div>\n",
       "<style scoped>\n",
       "    .dataframe tbody tr th:only-of-type {\n",
       "        vertical-align: middle;\n",
       "    }\n",
       "\n",
       "    .dataframe tbody tr th {\n",
       "        vertical-align: top;\n",
       "    }\n",
       "\n",
       "    .dataframe thead th {\n",
       "        text-align: right;\n",
       "    }\n",
       "</style>\n",
       "<table border=\"1\" class=\"dataframe\">\n",
       "  <thead>\n",
       "    <tr style=\"text-align: right;\">\n",
       "      <th></th>\n",
       "      <th>FID</th>\n",
       "      <th>OBJECTID</th>\n",
       "      <th>STATEFP10</th>\n",
       "      <th>COUNTYFP10</th>\n",
       "      <th>TRACTCE10</th>\n",
       "      <th>GEOID10</th>\n",
       "      <th>NAME10</th>\n",
       "      <th>NAMELSAD10</th>\n",
       "      <th>MTFCC10</th>\n",
       "      <th>FUNCSTAT10</th>\n",
       "      <th>ALAND10</th>\n",
       "      <th>AWATER10</th>\n",
       "      <th>INTPTLAT10</th>\n",
       "      <th>INTPTLON10</th>\n",
       "      <th>Shape_STAr</th>\n",
       "      <th>Shape_STLe</th>\n",
       "      <th>Shape__Are</th>\n",
       "      <th>Shape__Len</th>\n",
       "      <th>geometry</th>\n",
       "      <th>numColleges</th>\n",
       "      <th>Median_Gross_Rent_14</th>\n",
       "      <th>Median_Gross_Rent_19</th>\n",
       "      <th>Diff_In_Rent</th>\n",
       "    </tr>\n",
       "  </thead>\n",
       "  <tbody>\n",
       "    <tr>\n",
       "      <th>0</th>\n",
       "      <td>1</td>\n",
       "      <td>1</td>\n",
       "      <td>25</td>\n",
       "      <td>025</td>\n",
       "      <td>010405</td>\n",
       "      <td>25025010405</td>\n",
       "      <td>104.05</td>\n",
       "      <td>Census Tract 104.05</td>\n",
       "      <td>G5020</td>\n",
       "      <td>S</td>\n",
       "      <td>363702</td>\n",
       "      <td>0</td>\n",
       "      <td>+42.3398654</td>\n",
       "      <td>-071.0896052</td>\n",
       "      <td>3.914568e+06</td>\n",
       "      <td>14629.550361</td>\n",
       "      <td>6.660999e+05</td>\n",
       "      <td>6036.192858</td>\n",
       "      <td>POLYGON ((-7913712.352 5213050.565, -7913703.2...</td>\n",
       "      <td>4</td>\n",
       "      <td>549.000000</td>\n",
       "      <td>722.000000</td>\n",
       "      <td>31.511840</td>\n",
       "    </tr>\n",
       "    <tr>\n",
       "      <th>1</th>\n",
       "      <td>2</td>\n",
       "      <td>2</td>\n",
       "      <td>25</td>\n",
       "      <td>025</td>\n",
       "      <td>010404</td>\n",
       "      <td>25025010404</td>\n",
       "      <td>104.04</td>\n",
       "      <td>Census Tract 104.04</td>\n",
       "      <td>G5020</td>\n",
       "      <td>S</td>\n",
       "      <td>136829</td>\n",
       "      <td>0</td>\n",
       "      <td>+42.3419667</td>\n",
       "      <td>-071.0886375</td>\n",
       "      <td>1.472714e+06</td>\n",
       "      <td>5277.643216</td>\n",
       "      <td>2.506124e+05</td>\n",
       "      <td>2176.592125</td>\n",
       "      <td>POLYGON ((-7913776.138 5212012.710, -7913816.8...</td>\n",
       "      <td>0</td>\n",
       "      <td>1579.000000</td>\n",
       "      <td>1762.000000</td>\n",
       "      <td>11.589614</td>\n",
       "    </tr>\n",
       "    <tr>\n",
       "      <th>2</th>\n",
       "      <td>3</td>\n",
       "      <td>3</td>\n",
       "      <td>25</td>\n",
       "      <td>025</td>\n",
       "      <td>010801</td>\n",
       "      <td>25025010801</td>\n",
       "      <td>108.01</td>\n",
       "      <td>Census Tract 108.01</td>\n",
       "      <td>G5020</td>\n",
       "      <td>S</td>\n",
       "      <td>127905</td>\n",
       "      <td>0</td>\n",
       "      <td>+42.3541193</td>\n",
       "      <td>-071.0770216</td>\n",
       "      <td>1.376667e+06</td>\n",
       "      <td>6166.497167</td>\n",
       "      <td>2.343579e+05</td>\n",
       "      <td>2542.042976</td>\n",
       "      <td>POLYGON ((-7912767.027 5214112.033, -7912638.6...</td>\n",
       "      <td>1</td>\n",
       "      <td>1725.000000</td>\n",
       "      <td>2176.000000</td>\n",
       "      <td>26.144928</td>\n",
       "    </tr>\n",
       "    <tr>\n",
       "      <th>3</th>\n",
       "      <td>4</td>\n",
       "      <td>4</td>\n",
       "      <td>25</td>\n",
       "      <td>025</td>\n",
       "      <td>010702</td>\n",
       "      <td>25025010702</td>\n",
       "      <td>107.02</td>\n",
       "      <td>Census Tract 107.02</td>\n",
       "      <td>G5020</td>\n",
       "      <td>S</td>\n",
       "      <td>299981</td>\n",
       "      <td>0</td>\n",
       "      <td>+42.3518354</td>\n",
       "      <td>-071.0755159</td>\n",
       "      <td>3.228780e+06</td>\n",
       "      <td>7818.852369</td>\n",
       "      <td>5.496140e+05</td>\n",
       "      <td>3224.572988</td>\n",
       "      <td>POLYGON ((-7911549.191 5213833.362, -7911526.9...</td>\n",
       "      <td>0</td>\n",
       "      <td>1902.000000</td>\n",
       "      <td>2488.000000</td>\n",
       "      <td>30.809674</td>\n",
       "    </tr>\n",
       "    <tr>\n",
       "      <th>4</th>\n",
       "      <td>5</td>\n",
       "      <td>5</td>\n",
       "      <td>25</td>\n",
       "      <td>025</td>\n",
       "      <td>010204</td>\n",
       "      <td>25025010204</td>\n",
       "      <td>102.04</td>\n",
       "      <td>Census Tract 102.04</td>\n",
       "      <td>G5020</td>\n",
       "      <td>S</td>\n",
       "      <td>254706</td>\n",
       "      <td>0</td>\n",
       "      <td>+42.3462887</td>\n",
       "      <td>-071.1033879</td>\n",
       "      <td>2.741497e+06</td>\n",
       "      <td>7621.654206</td>\n",
       "      <td>4.665852e+05</td>\n",
       "      <td>3143.610963</td>\n",
       "      <td>POLYGON ((-7915575.618 5213366.267, -7915395.1...</td>\n",
       "      <td>0</td>\n",
       "      <td>1500.000000</td>\n",
       "      <td>1882.000000</td>\n",
       "      <td>25.466667</td>\n",
       "    </tr>\n",
       "    <tr>\n",
       "      <th>...</th>\n",
       "      <td>...</td>\n",
       "      <td>...</td>\n",
       "      <td>...</td>\n",
       "      <td>...</td>\n",
       "      <td>...</td>\n",
       "      <td>...</td>\n",
       "      <td>...</td>\n",
       "      <td>...</td>\n",
       "      <td>...</td>\n",
       "      <td>...</td>\n",
       "      <td>...</td>\n",
       "      <td>...</td>\n",
       "      <td>...</td>\n",
       "      <td>...</td>\n",
       "      <td>...</td>\n",
       "      <td>...</td>\n",
       "      <td>...</td>\n",
       "      <td>...</td>\n",
       "      <td>...</td>\n",
       "      <td>...</td>\n",
       "      <td>...</td>\n",
       "      <td>...</td>\n",
       "      <td>...</td>\n",
       "    </tr>\n",
       "    <tr>\n",
       "      <th>175</th>\n",
       "      <td>177</td>\n",
       "      <td>177</td>\n",
       "      <td>25</td>\n",
       "      <td>025</td>\n",
       "      <td>020301</td>\n",
       "      <td>25025020301</td>\n",
       "      <td>203.01</td>\n",
       "      <td>Census Tract 203.01</td>\n",
       "      <td>G5020</td>\n",
       "      <td>S</td>\n",
       "      <td>256258</td>\n",
       "      <td>328</td>\n",
       "      <td>+42.3631745</td>\n",
       "      <td>-071.0686463</td>\n",
       "      <td>2.761716e+06</td>\n",
       "      <td>10710.510922</td>\n",
       "      <td>4.702803e+05</td>\n",
       "      <td>4418.758815</td>\n",
       "      <td>POLYGON ((-7910936.934 5215689.769, -7910944.6...</td>\n",
       "      <td>0</td>\n",
       "      <td>1760.145266</td>\n",
       "      <td>2320.400000</td>\n",
       "      <td>31.830028</td>\n",
       "    </tr>\n",
       "    <tr>\n",
       "      <th>176</th>\n",
       "      <td>178</td>\n",
       "      <td>178</td>\n",
       "      <td>25</td>\n",
       "      <td>025</td>\n",
       "      <td>020101</td>\n",
       "      <td>25025020101</td>\n",
       "      <td>201.01</td>\n",
       "      <td>Census Tract 201.01</td>\n",
       "      <td>G5020</td>\n",
       "      <td>S</td>\n",
       "      <td>223142</td>\n",
       "      <td>0</td>\n",
       "      <td>+42.3577086</td>\n",
       "      <td>-071.0694112</td>\n",
       "      <td>2.401693e+06</td>\n",
       "      <td>7637.223404</td>\n",
       "      <td>4.088999e+05</td>\n",
       "      <td>3149.451618</td>\n",
       "      <td>POLYGON ((-7911762.702 5214722.578, -7911736.3...</td>\n",
       "      <td>0</td>\n",
       "      <td>1667.753943</td>\n",
       "      <td>2422.106734</td>\n",
       "      <td>45.231660</td>\n",
       "    </tr>\n",
       "    <tr>\n",
       "      <th>177</th>\n",
       "      <td>179</td>\n",
       "      <td>179</td>\n",
       "      <td>25</td>\n",
       "      <td>025</td>\n",
       "      <td>081001</td>\n",
       "      <td>25025081001</td>\n",
       "      <td>810.01</td>\n",
       "      <td>Census Tract 810.01</td>\n",
       "      <td>G5020</td>\n",
       "      <td>S</td>\n",
       "      <td>558488</td>\n",
       "      <td>0</td>\n",
       "      <td>+42.3345666</td>\n",
       "      <td>-071.1068303</td>\n",
       "      <td>6.011082e+06</td>\n",
       "      <td>16640.520998</td>\n",
       "      <td>1.022671e+06</td>\n",
       "      <td>6862.328681</td>\n",
       "      <td>POLYGON ((-7915356.764 5211150.553, -7915358.8...</td>\n",
       "      <td>0</td>\n",
       "      <td>903.538642</td>\n",
       "      <td>1226.401798</td>\n",
       "      <td>35.733187</td>\n",
       "    </tr>\n",
       "    <tr>\n",
       "      <th>178</th>\n",
       "      <td>180</td>\n",
       "      <td>180</td>\n",
       "      <td>25</td>\n",
       "      <td>025</td>\n",
       "      <td>010403</td>\n",
       "      <td>25025010403</td>\n",
       "      <td>104.03</td>\n",
       "      <td>Census Tract 104.03</td>\n",
       "      <td>G5020</td>\n",
       "      <td>S</td>\n",
       "      <td>88556</td>\n",
       "      <td>0</td>\n",
       "      <td>+42.3450750</td>\n",
       "      <td>-071.0880610</td>\n",
       "      <td>9.531475e+05</td>\n",
       "      <td>4227.644208</td>\n",
       "      <td>1.622134e+05</td>\n",
       "      <td>1744.671475</td>\n",
       "      <td>POLYGON ((-7913685.969 5212702.041, -7913676.5...</td>\n",
       "      <td>0</td>\n",
       "      <td>1475.755723</td>\n",
       "      <td>1671.381402</td>\n",
       "      <td>13.255966</td>\n",
       "    </tr>\n",
       "    <tr>\n",
       "      <th>179</th>\n",
       "      <td>181</td>\n",
       "      <td>181</td>\n",
       "      <td>25</td>\n",
       "      <td>025</td>\n",
       "      <td>000100</td>\n",
       "      <td>25025000100</td>\n",
       "      <td>1</td>\n",
       "      <td>Census Tract 1</td>\n",
       "      <td>G5020</td>\n",
       "      <td>S</td>\n",
       "      <td>1794942</td>\n",
       "      <td>0</td>\n",
       "      <td>+42.3614845</td>\n",
       "      <td>-071.1385879</td>\n",
       "      <td>1.931928e+07</td>\n",
       "      <td>28223.059560</td>\n",
       "      <td>3.289593e+06</td>\n",
       "      <td>11640.497709</td>\n",
       "      <td>POLYGON ((-7919691.881 5214276.679, -7919733.5...</td>\n",
       "      <td>0</td>\n",
       "      <td>1514.267770</td>\n",
       "      <td>1786.764616</td>\n",
       "      <td>17.995288</td>\n",
       "    </tr>\n",
       "  </tbody>\n",
       "</table>\n",
       "<p>180 rows × 23 columns</p>\n",
       "</div>"
      ],
      "text/plain": [
       "     FID  OBJECTID STATEFP10 COUNTYFP10 TRACTCE10      GEOID10  NAME10  \\\n",
       "0      1         1        25        025    010405  25025010405  104.05   \n",
       "1      2         2        25        025    010404  25025010404  104.04   \n",
       "2      3         3        25        025    010801  25025010801  108.01   \n",
       "3      4         4        25        025    010702  25025010702  107.02   \n",
       "4      5         5        25        025    010204  25025010204  102.04   \n",
       "..   ...       ...       ...        ...       ...          ...     ...   \n",
       "175  177       177        25        025    020301  25025020301  203.01   \n",
       "176  178       178        25        025    020101  25025020101  201.01   \n",
       "177  179       179        25        025    081001  25025081001  810.01   \n",
       "178  180       180        25        025    010403  25025010403  104.03   \n",
       "179  181       181        25        025    000100  25025000100       1   \n",
       "\n",
       "              NAMELSAD10 MTFCC10 FUNCSTAT10  ALAND10  AWATER10   INTPTLAT10  \\\n",
       "0    Census Tract 104.05   G5020          S   363702         0  +42.3398654   \n",
       "1    Census Tract 104.04   G5020          S   136829         0  +42.3419667   \n",
       "2    Census Tract 108.01   G5020          S   127905         0  +42.3541193   \n",
       "3    Census Tract 107.02   G5020          S   299981         0  +42.3518354   \n",
       "4    Census Tract 102.04   G5020          S   254706         0  +42.3462887   \n",
       "..                   ...     ...        ...      ...       ...          ...   \n",
       "175  Census Tract 203.01   G5020          S   256258       328  +42.3631745   \n",
       "176  Census Tract 201.01   G5020          S   223142         0  +42.3577086   \n",
       "177  Census Tract 810.01   G5020          S   558488         0  +42.3345666   \n",
       "178  Census Tract 104.03   G5020          S    88556         0  +42.3450750   \n",
       "179       Census Tract 1   G5020          S  1794942         0  +42.3614845   \n",
       "\n",
       "       INTPTLON10    Shape_STAr    Shape_STLe    Shape__Are    Shape__Len  \\\n",
       "0    -071.0896052  3.914568e+06  14629.550361  6.660999e+05   6036.192858   \n",
       "1    -071.0886375  1.472714e+06   5277.643216  2.506124e+05   2176.592125   \n",
       "2    -071.0770216  1.376667e+06   6166.497167  2.343579e+05   2542.042976   \n",
       "3    -071.0755159  3.228780e+06   7818.852369  5.496140e+05   3224.572988   \n",
       "4    -071.1033879  2.741497e+06   7621.654206  4.665852e+05   3143.610963   \n",
       "..            ...           ...           ...           ...           ...   \n",
       "175  -071.0686463  2.761716e+06  10710.510922  4.702803e+05   4418.758815   \n",
       "176  -071.0694112  2.401693e+06   7637.223404  4.088999e+05   3149.451618   \n",
       "177  -071.1068303  6.011082e+06  16640.520998  1.022671e+06   6862.328681   \n",
       "178  -071.0880610  9.531475e+05   4227.644208  1.622134e+05   1744.671475   \n",
       "179  -071.1385879  1.931928e+07  28223.059560  3.289593e+06  11640.497709   \n",
       "\n",
       "                                              geometry  numColleges  \\\n",
       "0    POLYGON ((-7913712.352 5213050.565, -7913703.2...            4   \n",
       "1    POLYGON ((-7913776.138 5212012.710, -7913816.8...            0   \n",
       "2    POLYGON ((-7912767.027 5214112.033, -7912638.6...            1   \n",
       "3    POLYGON ((-7911549.191 5213833.362, -7911526.9...            0   \n",
       "4    POLYGON ((-7915575.618 5213366.267, -7915395.1...            0   \n",
       "..                                                 ...          ...   \n",
       "175  POLYGON ((-7910936.934 5215689.769, -7910944.6...            0   \n",
       "176  POLYGON ((-7911762.702 5214722.578, -7911736.3...            0   \n",
       "177  POLYGON ((-7915356.764 5211150.553, -7915358.8...            0   \n",
       "178  POLYGON ((-7913685.969 5212702.041, -7913676.5...            0   \n",
       "179  POLYGON ((-7919691.881 5214276.679, -7919733.5...            0   \n",
       "\n",
       "     Median_Gross_Rent_14  Median_Gross_Rent_19  Diff_In_Rent  \n",
       "0              549.000000            722.000000     31.511840  \n",
       "1             1579.000000           1762.000000     11.589614  \n",
       "2             1725.000000           2176.000000     26.144928  \n",
       "3             1902.000000           2488.000000     30.809674  \n",
       "4             1500.000000           1882.000000     25.466667  \n",
       "..                    ...                   ...           ...  \n",
       "175           1760.145266           2320.400000     31.830028  \n",
       "176           1667.753943           2422.106734     45.231660  \n",
       "177            903.538642           1226.401798     35.733187  \n",
       "178           1475.755723           1671.381402     13.255966  \n",
       "179           1514.267770           1786.764616     17.995288  \n",
       "\n",
       "[180 rows x 23 columns]"
      ]
     },
     "metadata": {},
     "output_type": "display_data"
    }
   ],
   "source": [
    "display(map)"
   ]
  },
  {
   "cell_type": "markdown",
   "metadata": {},
   "source": [
    "### Plotted the map of Percent Change in Median Gross Rent"
   ]
  },
  {
   "cell_type": "markdown",
   "metadata": {},
   "source": [
    "Before plotting the change in median gross rent, we removed some of the outliers from the data. One of them was the tract that was only water that we mentioned earlier, which we removed. The other was a change in median gross rent that was much higher than any of the other tracts, making the heat map almost unreadable. To fix this, we made any tract with a change greater than 100% equal to 100%."
   ]
  },
  {
   "cell_type": "code",
   "execution_count": 27,
   "metadata": {},
   "outputs": [
    {
     "data": {
      "text/plain": [
       "<AxesSubplot:>"
      ]
     },
     "execution_count": 27,
     "metadata": {},
     "output_type": "execute_result"
    },
    {
     "data": {
      "image/png": "[encoded data removed]",
      "text/plain": [
       "<Figure size 432x288 with 2 Axes>"
      ]
     },
     "metadata": {
      "needs_background": "light"
     },
     "output_type": "display_data"
    }
   ],
   "source": [
    "fig, ax = plt.subplots(1, 1)\n",
    "divider = make_axes_locatable(ax)\n",
    "cax = divider.append_axes(\"right\", size=\"5%\", pad=0.5)\n",
    "\n",
    "#not including this tract because it's all water\n",
    "map = map[map[\"FID\"] != 48]\n",
    "\n",
    "for row in range(len(map)):\n",
    "    if (map[\"Diff_In_Rent\"][row] > 100):\n",
    "        map[\"Diff_In_Rent\"][row] = 100\n",
    "\n",
    "map.plot(figsize=(5, 5), column='Diff_In_Rent', legend_kwds={'label': \"Percent Change in Median Gross Rent\"}, ax=ax, cax=cax, legend=True)"
   ]
  },
  {
   "cell_type": "markdown",
   "metadata": {},
   "source": [
    "When comparing the map of colleges in Boston to the change in median gross rent from 2014 to 2019, it would be a stretch to say there was any correlation. We cannot conclusively say that the presence of a school affects gentrification on a tract level in Boston."
   ]
  },
  {
   "cell_type": "markdown",
   "metadata": {},
   "source": [
    "Since we couldn't see a correlation in our heat map, we decided to take a closer look using other visualizations. Our first graph was average net price vs percent change in rent from 2014-2019, in only the tracts that had colleges in them. Again, each data point represents a unique tract with at least one college."
   ]
  },
  {
   "cell_type": "code",
   "execution_count": 28,
   "metadata": {},
   "outputs": [
    {
     "data": {
      "text/plain": [
       "Text(0.5, 1.0, 'Relationship between average net price and percent change in rent from 2014-2019')"
      ]
     },
     "execution_count": 28,
     "metadata": {},
     "output_type": "execute_result"
    },
    {
     "data": {
      "image/png": "[encoded data removed]",
      "text/plain": [
       "<Figure size 432x288 with 1 Axes>"
      ]
     },
     "metadata": {
      "needs_background": "light"
     },
     "output_type": "display_data"
    }
   ],
   "source": [
    "import seaborn as sns\n",
    "import matplotlib.pyplot as plt\n",
    "sns.regplot(x='avg_net_price', y='percent_change_in_rent', scatter_kws={\"color\": \"green\", 'alpha': 0.7}, line_kws={\"color\": \"blue\"}, data=df_2014_19)\n",
    "plt.title('Relationship between average net price and percent change in rent from 2014-2019', fontsize = 13)"
   ]
  },
  {
   "cell_type": "markdown",
   "metadata": {},
   "source": [
    "Our second graph was average net price vs percent change in rent from 2014-2019"
   ]
  },
  {
   "cell_type": "code",
   "execution_count": 29,
   "metadata": {},
   "outputs": [
    {
     "data": {
      "text/plain": [
       "Text(0.5, 1.0, 'Relationship between total student population and percent change in rent from 2014-2019')"
      ]
     },
     "execution_count": 29,
     "metadata": {},
     "output_type": "execute_result"
    },
    {
     "data": {
      "image/png": "[encoded data removed]",
      "text/plain": [
       "<Figure size 432x288 with 1 Axes>"
      ]
     },
     "metadata": {
      "needs_background": "light"
     },
     "output_type": "display_data"
    }
   ],
   "source": [
    "sns.regplot(x='total_student_pop', y='percent_change_in_rent', scatter_kws={\"color\": \"green\", 'alpha': 0.7}, line_kws={\"color\": \"blue\"}, data=df_2014_19)\n",
    "plt.title('Relationship between total student population and percent change in rent from 2014-2019', fontsize = 13)"
   ]
  },
  {
   "cell_type": "markdown",
   "metadata": {},
   "source": [
    "To measure exact correlations, we created a correlation matrix as shown below. "
   ]
  },
  {
   "cell_type": "code",
   "execution_count": 30,
   "metadata": {},
   "outputs": [
    {
     "data": {
      "text/html": [
       "<div>\n",
       "<style scoped>\n",
       "    .dataframe tbody tr th:only-of-type {\n",
       "        vertical-align: middle;\n",
       "    }\n",
       "\n",
       "    .dataframe tbody tr th {\n",
       "        vertical-align: top;\n",
       "    }\n",
       "\n",
       "    .dataframe thead th {\n",
       "        text-align: right;\n",
       "    }\n",
       "</style>\n",
       "<table border=\"1\" class=\"dataframe\">\n",
       "  <thead>\n",
       "    <tr style=\"text-align: right;\">\n",
       "      <th></th>\n",
       "      <th>CT-ID-10</th>\n",
       "      <th>avg_net_price</th>\n",
       "      <th>total_student_pop</th>\n",
       "      <th>TotalPop</th>\n",
       "      <th>Median_Gross_Rent_2014</th>\n",
       "      <th>Median_Gross_Rent_2019</th>\n",
       "      <th>percent_change_in_rent</th>\n",
       "    </tr>\n",
       "  </thead>\n",
       "  <tbody>\n",
       "    <tr>\n",
       "      <th>CT-ID-10</th>\n",
       "      <td>1.000000</td>\n",
       "      <td>-0.319433</td>\n",
       "      <td>-0.444361</td>\n",
       "      <td>0.325095</td>\n",
       "      <td>-0.351979</td>\n",
       "      <td>-0.266599</td>\n",
       "      <td>0.299794</td>\n",
       "    </tr>\n",
       "    <tr>\n",
       "      <th>avg_net_price</th>\n",
       "      <td>-0.319433</td>\n",
       "      <td>1.000000</td>\n",
       "      <td>0.296353</td>\n",
       "      <td>0.390140</td>\n",
       "      <td>-0.555468</td>\n",
       "      <td>-0.664232</td>\n",
       "      <td>-0.231681</td>\n",
       "    </tr>\n",
       "    <tr>\n",
       "      <th>total_student_pop</th>\n",
       "      <td>-0.444361</td>\n",
       "      <td>0.296353</td>\n",
       "      <td>1.000000</td>\n",
       "      <td>0.206624</td>\n",
       "      <td>-0.256332</td>\n",
       "      <td>-0.170579</td>\n",
       "      <td>0.246883</td>\n",
       "    </tr>\n",
       "    <tr>\n",
       "      <th>TotalPop</th>\n",
       "      <td>0.325095</td>\n",
       "      <td>0.390140</td>\n",
       "      <td>0.206624</td>\n",
       "      <td>1.000000</td>\n",
       "      <td>-0.549469</td>\n",
       "      <td>-0.594431</td>\n",
       "      <td>0.095448</td>\n",
       "    </tr>\n",
       "    <tr>\n",
       "      <th>Median_Gross_Rent_2014</th>\n",
       "      <td>-0.351979</td>\n",
       "      <td>-0.555468</td>\n",
       "      <td>-0.256332</td>\n",
       "      <td>-0.549469</td>\n",
       "      <td>1.000000</td>\n",
       "      <td>0.939497</td>\n",
       "      <td>-0.317387</td>\n",
       "    </tr>\n",
       "    <tr>\n",
       "      <th>Median_Gross_Rent_2019</th>\n",
       "      <td>-0.266599</td>\n",
       "      <td>-0.664232</td>\n",
       "      <td>-0.170579</td>\n",
       "      <td>-0.594431</td>\n",
       "      <td>0.939497</td>\n",
       "      <td>1.000000</td>\n",
       "      <td>0.005564</td>\n",
       "    </tr>\n",
       "    <tr>\n",
       "      <th>percent_change_in_rent</th>\n",
       "      <td>0.299794</td>\n",
       "      <td>-0.231681</td>\n",
       "      <td>0.246883</td>\n",
       "      <td>0.095448</td>\n",
       "      <td>-0.317387</td>\n",
       "      <td>0.005564</td>\n",
       "      <td>1.000000</td>\n",
       "    </tr>\n",
       "  </tbody>\n",
       "</table>\n",
       "</div>"
      ],
      "text/plain": [
       "                        CT-ID-10  avg_net_price  total_student_pop  TotalPop  \\\n",
       "CT-ID-10                1.000000      -0.319433          -0.444361  0.325095   \n",
       "avg_net_price          -0.319433       1.000000           0.296353  0.390140   \n",
       "total_student_pop      -0.444361       0.296353           1.000000  0.206624   \n",
       "TotalPop                0.325095       0.390140           0.206624  1.000000   \n",
       "Median_Gross_Rent_2014 -0.351979      -0.555468          -0.256332 -0.549469   \n",
       "Median_Gross_Rent_2019 -0.266599      -0.664232          -0.170579 -0.594431   \n",
       "percent_change_in_rent  0.299794      -0.231681           0.246883  0.095448   \n",
       "\n",
       "                        Median_Gross_Rent_2014  Median_Gross_Rent_2019  \\\n",
       "CT-ID-10                             -0.351979               -0.266599   \n",
       "avg_net_price                        -0.555468               -0.664232   \n",
       "total_student_pop                    -0.256332               -0.170579   \n",
       "TotalPop                             -0.549469               -0.594431   \n",
       "Median_Gross_Rent_2014                1.000000                0.939497   \n",
       "Median_Gross_Rent_2019                0.939497                1.000000   \n",
       "percent_change_in_rent               -0.317387                0.005564   \n",
       "\n",
       "                        percent_change_in_rent  \n",
       "CT-ID-10                              0.299794  \n",
       "avg_net_price                        -0.231681  \n",
       "total_student_pop                     0.246883  \n",
       "TotalPop                              0.095448  \n",
       "Median_Gross_Rent_2014               -0.317387  \n",
       "Median_Gross_Rent_2019                0.005564  \n",
       "percent_change_in_rent                1.000000  "
      ]
     },
     "execution_count": 30,
     "metadata": {},
     "output_type": "execute_result"
    }
   ],
   "source": [
    "df_2014_19.corr()"
   ]
  },
  {
   "cell_type": "markdown",
   "metadata": {},
   "source": [
    "The cells of this correlation matrix that we are most interested in are the percent change in rent for the average net price and total student pop. \n",
    "\n",
    "The net price vs percent change in rent cell shows a negative correlation, which means that tracts with cheaper schools had a larger increase in the change in rent. This goes against our hypothesis that students who pay more for school would contribute more towards gentrification, but it is a weak correlation so it is difficult to draw a meaningful conclusion from this data.\n",
    "\n",
    "The student population vs percent change in rent is a positive correlation but it's only .247 which is not significant. This means that tracts with larger schools did increase the rent, but only slightly, and not enough to prove our hypothesis."
   ]
  },
  {
   "cell_type": "markdown",
   "metadata": {},
   "source": [
    "## Conclusion\n",
    "\n",
    "Gentrification is a multifacted issue, and we were fully aware that the presence of colleges would not be the only factor affecting median gross rent. Our data did not conclusively show that there is a correlation between the change in median gross rent and the presence of colleges.\n",
    "\n",
    ">One possible explanation for our lack of a correlation could be that the student population we found doesn't actually tell us how many students are living in the area. Many students don't live in the same tract that their school is in, so they wouldn't contribute to gentrifying the area, in the way we studied it, in that tract. We also don't have data on the breakdown of on campus vs off campus housing for students, nor do we have enough information to understand how off campus vs on campus housing affects gentrification. Using our study methods, we would probably be just analyzing off campus students, however, we recognize that higher demand for on campus housing would potentially cause universities to purchase more property, which would contribute to gentrifying the area. \n",
    "\n",
    ">Our sample size, consisting of the 14 tracts that contained the 27 schools in Boston, was quite small. In addition, many of those 27 schools were not standard, 4-year universities, but specialty or trade schools, which we don't imagine would produce the same effect of gentrifying the neighborhood. Both of these factors lead to a high variance in our data which could have contributed to our inconclusive results. Had we chosen a larger area to measure or inluded multiple metropolitan areas, we beleive we could have found a more conclusive relationship between the factors we measured.\n",
    "\n",
    ">Another possible explanation for our lack of findings could be the 5 year time frame that we chose to use. Most universities in Boston have been around for a long time, so the areas that they are located may have already been gentrified and therefore, the rent would not change as dramatically as if the university had just been established. We don't imagine that a drastically larger amount of students would be coming to attend universities in Boston over the last five years compared to the five years prior. If we wanted to get a better measure of how universities affect gentrifiaction, we could look back further to see if the establishment of a new university, and therefore an increase in student population, would affect the growth in median gross rent."
   ]
  },
  {
   "cell_type": "markdown",
   "metadata": {},
   "source": [
    "## Bibliography\n",
    "\n",
    "Smith, D. (2020, July 09). In a new Study, Boston was ranked the THIRD-MOST Gentrified city \n",
    "in the U.S. Retrieved February 04, 2021, from https://www.boston.com/news/local-news-2/2020/07/09/boston-ranked-third-most-gentrified-city."
   ]
  },
  {
   "cell_type": "code",
   "execution_count": null,
   "metadata": {},
   "outputs": [],
   "source": []
  }
 ],
 "metadata": {
  "kernelspec": {
   "display_name": "Python 3",
   "language": "python",
   "name": "python3"
  },
  "language_info": {
   "codemirror_mode": {
    "name": "ipython",
    "version": 3
   },
   "file_extension": ".py",
   "mimetype": "text/x-python",
   "name": "python",
   "nbconvert_exporter": "python",
   "pygments_lexer": "ipython3",
   "version": "3.8.5"
  }
 },
 "nbformat": 4,
 "nbformat_minor": 4
}
